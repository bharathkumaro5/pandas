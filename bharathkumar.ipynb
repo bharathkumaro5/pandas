{
  "nbformat": 4,
  "nbformat_minor": 0,
  "metadata": {
    "colab": {
      "provenance": [],
      "authorship_tag": "ABX9TyPINgio5ja0srnV3cz16GPF",
      "include_colab_link": true
    },
    "kernelspec": {
      "name": "python3",
      "display_name": "Python 3"
    },
    "language_info": {
      "name": "python"
    }
  },
  "cells": [
    {
      "cell_type": "markdown",
      "metadata": {
        "id": "view-in-github",
        "colab_type": "text"
      },
      "source": [
        "<a href=\"https://colab.research.google.com/github/bharathkumaro5/pandas/blob/main/bharathkumar.ipynb\" target=\"_parent\"><img src=\"https://colab.research.google.com/assets/colab-badge.svg\" alt=\"Open In Colab\"/></a>"
      ]
    },
    {
      "cell_type": "markdown",
      "source": [
        "1. Getting Familiar with Pandas\n",
        "\n",
        "Pandas is a powerful library in Python for data manipulation and analysis. The primary data structures in Pandas are:\n",
        "\n",
        "Series: A one-dimensional labeled array capable of holding any data type.\n",
        "\n",
        "DataFrame: A two-dimensional labeled data structure with columns of potentially different types.\n",
        "\n",
        "1.series creation"
      ],
      "metadata": {
        "id": "BTJQWbAcIjgv"
      }
    },
    {
      "cell_type": "code",
      "execution_count": 1,
      "metadata": {
        "colab": {
          "base_uri": "https://localhost:8080/"
        },
        "id": "z_fMYQZ6IQ_U",
        "outputId": "6e96a199-8599-443e-ef53-ec79aec07321"
      },
      "outputs": [
        {
          "output_type": "stream",
          "name": "stdout",
          "text": [
            "0    10\n",
            "1    20\n",
            "2    30\n",
            "3    40\n",
            "dtype: int64\n",
            "A    1\n",
            "B    2\n",
            "C    3\n",
            "dtype: int64\n"
          ]
        }
      ],
      "source": [
        "import pandas as pd\n",
        "# From a list\n",
        "data = [10, 20, 30, 40]\n",
        "series = pd.Series(data)\n",
        "print(series)\n",
        "# From a dictionary\n",
        "data = {'A': 1, 'B': 2, 'C': 3}\n",
        "series = pd.Series(data)\n",
        "print(series)"
      ]
    },
    {
      "cell_type": "markdown",
      "source": [
        "2.DataFrame Creation:"
      ],
      "metadata": {
        "id": "81lMrQ5bJdEx"
      }
    },
    {
      "cell_type": "code",
      "source": [
        "import pandas as pd\n",
        "data = {\n",
        "    'Name': ['ab', 'cd', 'ef'],\n",
        "    'Age': [25, 30, 35],\n",
        "    'City': ['china', 'india', 'Chicago']\n",
        "}\n",
        "df = pd.DataFrame(data)\n",
        "print(df)"
      ],
      "metadata": {
        "colab": {
          "base_uri": "https://localhost:8080/"
        },
        "id": "saMIsTfgI-u_",
        "outputId": "eed1c49d-ae1b-42ac-b2ab-bb56d2a246ef"
      },
      "execution_count": 4,
      "outputs": [
        {
          "output_type": "stream",
          "name": "stdout",
          "text": [
            "  Name  Age     City\n",
            "0   ab   25    china\n",
            "1   cd   30    india\n",
            "2   ef   35  Chicago\n"
          ]
        }
      ]
    },
    {
      "cell_type": "markdown",
      "source": [
        "common operations\n",
        "\n",
        "1.selecting data"
      ],
      "metadata": {
        "id": "fFl6wq5hJ62c"
      }
    },
    {
      "cell_type": "code",
      "source": [
        "import pandas as pd\n",
        "data = {\n",
        "    'Name': ['ab', 'cd', 'ef'],\n",
        "    'Age': [25, 30, 35],\n",
        "    'City': ['china', 'india', 'Chicago']\n",
        "}\n",
        "df=pd.DataFrame(data)\n",
        "# Selecting a column\n",
        "print(df['Name'])\n",
        "# Selecting rows by index\n",
        "print(df.iloc[0])"
      ],
      "metadata": {
        "colab": {
          "base_uri": "https://localhost:8080/"
        },
        "id": "rBCEWoe9Jmqu",
        "outputId": "dd4e6988-f32a-42b7-c744-d42a4e6e4ad1"
      },
      "execution_count": 11,
      "outputs": [
        {
          "output_type": "stream",
          "name": "stdout",
          "text": [
            "0    ab\n",
            "1    cd\n",
            "2    ef\n",
            "Name: Name, dtype: object\n",
            "Name       ab\n",
            "Age        25\n",
            "City    china\n",
            "Name: 0, dtype: object\n"
          ]
        }
      ]
    },
    {
      "cell_type": "markdown",
      "source": [
        "2.filtering rows"
      ],
      "metadata": {
        "id": "SOvItlekK_JC"
      }
    },
    {
      "cell_type": "code",
      "source": [
        "import pandas as pd\n",
        "data= {\n",
        "    'Name': ['ab', 'cd', 'ef'],\n",
        "    'Age': [25, 30, 35],\n",
        "    'City': ['china', 'india', 'Chicago']\n",
        "}\n",
        "df=pd.DataFrame(data)\n",
        "filtered_df = df[df['Age'] > 30]\n",
        "print(filtered_df)"
      ],
      "metadata": {
        "colab": {
          "base_uri": "https://localhost:8080/"
        },
        "id": "Bb28maA-KDfs",
        "outputId": "c93645d3-af5c-475f-e597-8929ddd9f4ef"
      },
      "execution_count": 10,
      "outputs": [
        {
          "output_type": "stream",
          "name": "stdout",
          "text": [
            "  Name  Age     City\n",
            "2   ef   35  Chicago\n"
          ]
        }
      ]
    },
    {
      "cell_type": "markdown",
      "source": [
        "3.Modifying Data:"
      ],
      "metadata": {
        "id": "L18rEzT3Ngwj"
      }
    },
    {
      "cell_type": "code",
      "source": [
        "import pandas as pd\n",
        "data = {\n",
        "    'Name': ['ab', 'cd', 'ef'],\n",
        "    'Age': [25, 30, 35],\n",
        "    'City': ['china', 'india', 'Chicago']\n",
        "}\n",
        "df=pd.DataFrame(data)\n",
        "df['Country'] = 'USA'\n",
        "print(df)\n",
        "# Modifying existing data\n",
        "df.loc[0, 'Age'] = 26\n",
        "print(df)"
      ],
      "metadata": {
        "colab": {
          "base_uri": "https://localhost:8080/"
        },
        "id": "5019cf69L5Rv",
        "outputId": "ccfe44fe-7dc2-48e4-c765-27a4880e2e6f"
      },
      "execution_count": 12,
      "outputs": [
        {
          "output_type": "stream",
          "name": "stdout",
          "text": [
            "  Name  Age     City Country\n",
            "0   ab   25    china     USA\n",
            "1   cd   30    india     USA\n",
            "2   ef   35  Chicago     USA\n",
            "  Name  Age     City Country\n",
            "0   ab   26    china     USA\n",
            "1   cd   30    india     USA\n",
            "2   ef   35  Chicago     USA\n"
          ]
        }
      ]
    },
    {
      "cell_type": "markdown",
      "source": [
        "2. Data Handling with Pandas\n",
        "\n",
        "Handling missing data"
      ],
      "metadata": {
        "id": "fxx9TE-9PppJ"
      }
    },
    {
      "cell_type": "code",
      "source": [
        "import pandas as pd\n",
        "import numpy as np\n",
        "\n",
        "# Creating a DataFrame with missing values\n",
        "data = {\n",
        "    'Name': ['ab', 'cd', 'ef', np.nan],\n",
        "    'Age': [25, np.nan, 35, 40],\n",
        "    'City': ['china', 'india', np.nan, 'chicago']\n",
        "}\n",
        "df = pd.DataFrame(data)\n",
        "# Filling missing values\n",
        "df_filled = df.fillna({'Name': 'Unknown', 'Age': df['Age'].mean()})\n",
        "print(\"\\nDataFrame with Missing Values Filled:\\n\", df_filled)\n",
        "\n",
        "# Dropping rows with missing values\n",
        "df_dropped = df.dropna()\n",
        "print(\"\\nDataFrame with Missing Values Dropped:\\n\", df_dropped)"
      ],
      "metadata": {
        "colab": {
          "base_uri": "https://localhost:8080/"
        },
        "id": "7dZzzOA7Nt4J",
        "outputId": "11c114d3-10b0-4c0f-918f-bcf98649b902"
      },
      "execution_count": 22,
      "outputs": [
        {
          "output_type": "stream",
          "name": "stdout",
          "text": [
            "\n",
            "DataFrame with Missing Values Filled:\n",
            "       Name        Age     City\n",
            "0       ab  25.000000    china\n",
            "1       cd  33.333333    india\n",
            "2       ef  35.000000      NaN\n",
            "3  Unknown  40.000000  chicago\n",
            "\n",
            "DataFrame with Missing Values Dropped:\n",
            "   Name   Age   City\n",
            "0   ab  25.0  china\n"
          ]
        }
      ]
    },
    {
      "cell_type": "markdown",
      "source": [
        "Data transformation\n",
        "\n",
        "1. Renaming Columns and Indexes\n",
        "python\n"
      ],
      "metadata": {
        "id": "NDj7ZJ3fRWOv"
      }
    },
    {
      "cell_type": "code",
      "source": [
        "import pandas as pd\n",
        "# Creating a DataFrame\n",
        "df = pd.DataFrame({\n",
        "    'OldName1': [1, 2, 3],\n",
        "    'OldName2': [4, 5, 6]\n",
        "},\n",
        "index=['a', 'b', 'c'])\n",
        "# Renaming columns\n",
        "df.rename(columns={'OldName1': 'NewName1', 'OldName2': 'NewName2'}, inplace=True)\n",
        "print(df)\n",
        "# Renaming index\n",
        "df.rename(index={'a': 'row1', 'b': 'row2', 'c': 'row3'}, inplace=True)\n",
        "print(df)"
      ],
      "metadata": {
        "colab": {
          "base_uri": "https://localhost:8080/"
        },
        "id": "MpBAH57gQqBB",
        "outputId": "062334cb-1fdf-4b46-b93c-95b06be851a9"
      },
      "execution_count": 26,
      "outputs": [
        {
          "output_type": "stream",
          "name": "stdout",
          "text": [
            "   NewName1  NewName2\n",
            "a         1         4\n",
            "b         2         5\n",
            "c         3         6\n",
            "      NewName1  NewName2\n",
            "row1         1         4\n",
            "row2         2         5\n",
            "row3         3         6\n"
          ]
        }
      ]
    },
    {
      "cell_type": "markdown",
      "source": [
        "**3.data analysis with pandas**\n",
        "\n",
        "generating summary statistics"
      ],
      "metadata": {
        "id": "kptokCjRS11r"
      }
    },
    {
      "cell_type": "code",
      "source": [
        "import pandas as pd\n",
        "# Creating a DataFrame\n",
        "data = {\n",
        "    'Age': [25, 30, 35, 40, 45],\n",
        "    'Salary': [50000, 60000, 70000, 80000, 90000]\n",
        "}\n",
        "df = pd.DataFrame(data)\n",
        "# Summary statistics\n",
        "print(\"\\nSummary Statistics:\\n\", df.describe())"
      ],
      "metadata": {
        "colab": {
          "base_uri": "https://localhost:8080/"
        },
        "id": "xKqeB17gSJkk",
        "outputId": "de8dfde9-4ee9-41db-bb49-cb7918df3929"
      },
      "execution_count": 31,
      "outputs": [
        {
          "output_type": "stream",
          "name": "stdout",
          "text": [
            "\n",
            "Summary Statistics:\n",
            "              Age        Salary\n",
            "count   5.000000      5.000000\n",
            "mean   35.000000  70000.000000\n",
            "std     7.905694  15811.388301\n",
            "min    25.000000  50000.000000\n",
            "25%    30.000000  60000.000000\n",
            "50%    35.000000  70000.000000\n",
            "75%    40.000000  80000.000000\n",
            "max    45.000000  90000.000000\n"
          ]
        }
      ]
    },
    {
      "cell_type": "markdown",
      "source": [],
      "metadata": {
        "id": "l0TdjnCqSJKj"
      }
    },
    {
      "cell_type": "markdown",
      "source": [
        "**Grouping data and applying aggregates**"
      ],
      "metadata": {
        "id": "rPHDK7DbTNMi"
      }
    },
    {
      "cell_type": "code",
      "source": [
        "import pandas as pd\n",
        "# Creating a DataFrame\n",
        "data = {\n",
        "    'Department': ['HR', 'IT', 'IT', 'HR', 'Finance'],\n",
        "    'Salary': [50000, 60000, 65000, 55000, 70000]\n",
        "}\n",
        "df = pd.DataFrame(data)\n",
        "# Group by 'Department' and calculate the mean salary\n",
        "grouped = df.groupby('Department').mean()\n",
        "print(\"\\nGrouped Data and Aggregates:\\n\", grouped)"
      ],
      "metadata": {
        "colab": {
          "base_uri": "https://localhost:8080/"
        },
        "id": "VqkasPm4TbI1",
        "outputId": "46deac6c-d0a9-481d-ebd2-9a4d3212d96b"
      },
      "execution_count": 32,
      "outputs": [
        {
          "output_type": "stream",
          "name": "stdout",
          "text": [
            "\n",
            "Grouped Data and Aggregates:\n",
            "              Salary\n",
            "Department         \n",
            "Finance     70000.0\n",
            "HR          52500.0\n",
            "IT          62500.0\n"
          ]
        }
      ]
    },
    {
      "cell_type": "markdown",
      "source": [
        "**concatinating dataframes**"
      ],
      "metadata": {
        "id": "UdOsYuMIT0Ne"
      }
    },
    {
      "cell_type": "code",
      "source": [
        "import pandas as pd\n",
        "\n",
        "# Creating DataFrames\n",
        "df1 = pd.DataFrame({\n",
        "    'ID': [1, 2, 3],\n",
        "    'Name': ['cherry', 'Bharath', 'bunny']\n",
        "})\n",
        "\n",
        "df2 = pd.DataFrame({\n",
        "    'ID': [4, 5],\n",
        "    'Name': ['kdp', 'anii']\n",
        "})\n",
        "# Concatenating DataFrames\n",
        "concatenated_df = pd.concat([df1, df2], ignore_index=True)\n",
        "print(\"\\nConcatenated DataFrame:\\n\", concatenated_df)"
      ],
      "metadata": {
        "colab": {
          "base_uri": "https://localhost:8080/"
        },
        "id": "XWpPIiEhT8am",
        "outputId": "383f9e82-7577-4bcb-fb3c-83ac4d66d3d7"
      },
      "execution_count": 33,
      "outputs": [
        {
          "output_type": "stream",
          "name": "stdout",
          "text": [
            "\n",
            "Concatenated DataFrame:\n",
            "    ID     Name\n",
            "0   1   cherry\n",
            "1   2  Bharath\n",
            "2   3    bunny\n",
            "3   4      kdp\n",
            "4   5     anii\n"
          ]
        }
      ]
    },
    {
      "cell_type": "markdown",
      "source": [
        "4. Application in Data Science\n",
        "Pandas is an indispensable tool in data science due to its powerful data manipulation capabilities. Here’s how it aids data science professionals:\n",
        "\n",
        "Advantages of Using Pandas\n",
        "Efficient Data Handling:\n",
        "\n",
        "Data Structures: Pandas offers two primary data structures, Series and DataFrame, which are designed for handling complex data manipulations efficiently. Unlike traditional Python data structures like lists and dictionaries, Pandas data structures are optimized for performance, especially with large datasets.\n",
        "Vectorized Operations: Pandas allows for vectorized operations (performing operations on entire arrays of data at once) which are much faster than iterating through data manually. This results in significant speed improvements for data processing.\n",
        "\n",
        "Rich Functionality:\n",
        "Data Manipulation: Pandas provides a comprehensive set of functions for reshaping, merging, and aggregating data. Operations such as joining, concatenating, and pivoting data are straightforward and highly efficient.\n",
        "Missing Data Handling: Built-in methods to handle missing values (fillna, dropna) simplify the cleaning process, making it easier to prepare data for analysis.\n",
        "\n",
        "Data Analysis and Aggregation:\n",
        "Descriptive Statistics: Functions like describe(), groupby(), and pivot_table() offer quick insights into the data, helping in understanding distributions and relationships within the dataset.\n",
        "Custom Aggregations: The ability to apply custom aggregation functions to grouped data allows for flexible and complex data analysis.\n",
        "\n",
        "Data Cleaning and Preparation:\n",
        "Consistent Data Format: Pandas helps in converting data into a consistent format, which is crucial for accurate analysis and model building.\n",
        "Data Transformation: Easily perform operations like normalization, scaling, and feature engineering to prepare data for machine learning models.\n"
      ],
      "metadata": {
        "id": "cDM1D9MhUQUJ"
      }
    }
  ]
}